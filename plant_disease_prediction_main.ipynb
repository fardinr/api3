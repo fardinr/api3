{
 "cells": [
  {
   "cell_type": "code",
   "execution_count": 1,
   "metadata": {},
   "outputs": [
    {
     "ename": "FileNotFoundError",
     "evalue": "[Errno 2] No such file or directory: '/content/Label_Instance.pkl'",
     "output_type": "error",
     "traceback": [
      "\u001b[1;31m---------------------------------------------------------------------------\u001b[0m",
      "\u001b[1;31mFileNotFoundError\u001b[0m                         Traceback (most recent call last)",
      "\u001b[1;32mc:\\fardin\\Project\\Plantix--Plant-Disease-Prediction-Application-master\\disease_prediction_model\\plant_disease_prediction_main.ipynb Cell 1\u001b[0m in \u001b[0;36m<cell line: 6>\u001b[1;34m()\u001b[0m\n\u001b[0;32m      <a href='vscode-notebook-cell:/c%3A/fardin/Project/Plantix--Plant-Disease-Prediction-Application-master/disease_prediction_model/plant_disease_prediction_main.ipynb#W0sZmlsZQ%3D%3D?line=3'>4</a>\u001b[0m \u001b[39mimport\u001b[39;00m \u001b[39mnumpy\u001b[39;00m \u001b[39mas\u001b[39;00m \u001b[39mnp\u001b[39;00m\n\u001b[0;32m      <a href='vscode-notebook-cell:/c%3A/fardin/Project/Plantix--Plant-Disease-Prediction-Application-master/disease_prediction_model/plant_disease_prediction_main.ipynb#W0sZmlsZQ%3D%3D?line=4'>5</a>\u001b[0m \u001b[39mfrom\u001b[39;00m \u001b[39mtensorflow\u001b[39;00m\u001b[39m.\u001b[39;00m\u001b[39mkeras\u001b[39;00m\u001b[39m.\u001b[39;00m\u001b[39mmodels\u001b[39;00m \u001b[39mimport\u001b[39;00m load_model\n\u001b[1;32m----> <a href='vscode-notebook-cell:/c%3A/fardin/Project/Plantix--Plant-Disease-Prediction-Application-master/disease_prediction_model/plant_disease_prediction_main.ipynb#W0sZmlsZQ%3D%3D?line=5'>6</a>\u001b[0m instance\u001b[39m=\u001b[39mpickle\u001b[39m.\u001b[39mload(\u001b[39mopen\u001b[39;49m(\u001b[39mr\u001b[39;49m\u001b[39m\"\u001b[39;49m\u001b[39m/content/Label_Instance.pkl\u001b[39;49m\u001b[39m\"\u001b[39;49m,\u001b[39m\"\u001b[39;49m\u001b[39mrb\u001b[39;49m\u001b[39m\"\u001b[39;49m))\n\u001b[0;32m      <a href='vscode-notebook-cell:/c%3A/fardin/Project/Plantix--Plant-Disease-Prediction-Application-master/disease_prediction_model/plant_disease_prediction_main.ipynb#W0sZmlsZQ%3D%3D?line=6'>7</a>\u001b[0m mod\u001b[39m=\u001b[39mload_model(\u001b[39mr\u001b[39m\u001b[39m\"\u001b[39m\u001b[39m/content/model.h5\u001b[39m\u001b[39m\"\u001b[39m)\n\u001b[0;32m      <a href='vscode-notebook-cell:/c%3A/fardin/Project/Plantix--Plant-Disease-Prediction-Application-master/disease_prediction_model/plant_disease_prediction_main.ipynb#W0sZmlsZQ%3D%3D?line=7'>8</a>\u001b[0m img \u001b[39m=\u001b[39m cv2\u001b[39m.\u001b[39mimread(\u001b[39mr\u001b[39m\u001b[39m'\u001b[39m\u001b[39m/content/PotatoEarlyBlight2.JPG\u001b[39m\u001b[39m'\u001b[39m)\n",
      "\u001b[1;31mFileNotFoundError\u001b[0m: [Errno 2] No such file or directory: '/content/Label_Instance.pkl'"
     ]
    }
   ],
   "source": [
    "import tensorflow\n",
    "import pickle\n",
    "import cv2\n",
    "import numpy as np\n",
    "from tensorflow.keras.models import load_model\n",
    "instance=pickle.load(open(r\"/Label_Instance.pkl\",\"rb\"))\n",
    "mod=load_model(r\"/content/model.h5\")\n",
    "img = cv2.imread(r'/content/PotatoEarlyBlight2.JPG')\n",
    "img = cv2.resize(img,(256,256))\n",
    "img = np.reshape(img,[1,256,256,3])\n",
    "img=img/255.0\n",
    "max_val=np.argmax(mod.predict(img))\n",
    "label=instance.classes_[max_val]\n",
    "print(label)"
   ]
  }
 ],
 "metadata": {
  "kernelspec": {
   "display_name": "Python 3.10.7 64-bit",
   "language": "python",
   "name": "python3"
  },
  "language_info": {
   "codemirror_mode": {
    "name": "ipython",
    "version": 3
   },
   "file_extension": ".py",
   "mimetype": "text/x-python",
   "name": "python",
   "nbconvert_exporter": "python",
   "pygments_lexer": "ipython3",
   "version": "3.10.7"
  },
  "vscode": {
   "interpreter": {
    "hash": "663129171a65123de1cee909522fe8c2e2ed81abd38f883336c9e6b00f46f57b"
   }
  }
 },
 "nbformat": 4,
 "nbformat_minor": 2
}
